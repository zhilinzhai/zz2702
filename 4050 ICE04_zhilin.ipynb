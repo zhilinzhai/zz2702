{
 "cells": [
  {
   "cell_type": "code",
   "execution_count": 1,
   "id": "675ba1bb",
   "metadata": {},
   "outputs": [],
   "source": [
    "import pandas as pd\n",
    "import matplotlib.pyplot as plt"
   ]
  },
  {
   "cell_type": "code",
   "execution_count": 7,
   "id": "2132f962",
   "metadata": {},
   "outputs": [
    {
     "data": {
      "text/html": [
       "<div>\n",
       "<style scoped>\n",
       "    .dataframe tbody tr th:only-of-type {\n",
       "        vertical-align: middle;\n",
       "    }\n",
       "\n",
       "    .dataframe tbody tr th {\n",
       "        vertical-align: top;\n",
       "    }\n",
       "\n",
       "    .dataframe thead th {\n",
       "        text-align: right;\n",
       "    }\n",
       "</style>\n",
       "<table border=\"1\" class=\"dataframe\">\n",
       "  <thead>\n",
       "    <tr style=\"text-align: right;\">\n",
       "      <th></th>\n",
       "      <th>certified</th>\n",
       "      <th>forum.posts</th>\n",
       "      <th>grade</th>\n",
       "      <th>assignment</th>\n",
       "    </tr>\n",
       "  </thead>\n",
       "  <tbody>\n",
       "    <tr>\n",
       "      <th>0</th>\n",
       "      <td>no</td>\n",
       "      <td>7</td>\n",
       "      <td>3</td>\n",
       "      <td>9</td>\n",
       "    </tr>\n",
       "    <tr>\n",
       "      <th>1</th>\n",
       "      <td>no</td>\n",
       "      <td>7</td>\n",
       "      <td>4</td>\n",
       "      <td>1</td>\n",
       "    </tr>\n",
       "    <tr>\n",
       "      <th>2</th>\n",
       "      <td>yes</td>\n",
       "      <td>191</td>\n",
       "      <td>8</td>\n",
       "      <td>19</td>\n",
       "    </tr>\n",
       "    <tr>\n",
       "      <th>3</th>\n",
       "      <td>yes</td>\n",
       "      <td>130</td>\n",
       "      <td>10</td>\n",
       "      <td>18</td>\n",
       "    </tr>\n",
       "    <tr>\n",
       "      <th>4</th>\n",
       "      <td>yes</td>\n",
       "      <td>135</td>\n",
       "      <td>8</td>\n",
       "      <td>18</td>\n",
       "    </tr>\n",
       "    <tr>\n",
       "      <th>...</th>\n",
       "      <td>...</td>\n",
       "      <td>...</td>\n",
       "      <td>...</td>\n",
       "      <td>...</td>\n",
       "    </tr>\n",
       "    <tr>\n",
       "      <th>995</th>\n",
       "      <td>yes</td>\n",
       "      <td>88</td>\n",
       "      <td>10</td>\n",
       "      <td>13</td>\n",
       "    </tr>\n",
       "    <tr>\n",
       "      <th>996</th>\n",
       "      <td>yes</td>\n",
       "      <td>153</td>\n",
       "      <td>10</td>\n",
       "      <td>19</td>\n",
       "    </tr>\n",
       "    <tr>\n",
       "      <th>997</th>\n",
       "      <td>no</td>\n",
       "      <td>41</td>\n",
       "      <td>4</td>\n",
       "      <td>3</td>\n",
       "    </tr>\n",
       "    <tr>\n",
       "      <th>998</th>\n",
       "      <td>no</td>\n",
       "      <td>47</td>\n",
       "      <td>6</td>\n",
       "      <td>12</td>\n",
       "    </tr>\n",
       "    <tr>\n",
       "      <th>999</th>\n",
       "      <td>yes</td>\n",
       "      <td>112</td>\n",
       "      <td>8</td>\n",
       "      <td>19</td>\n",
       "    </tr>\n",
       "  </tbody>\n",
       "</table>\n",
       "<p>1000 rows × 4 columns</p>\n",
       "</div>"
      ],
      "text/plain": [
       "    certified  forum.posts  grade  assignment\n",
       "0          no            7      3           9\n",
       "1          no            7      4           1\n",
       "2         yes          191      8          19\n",
       "3         yes          130     10          18\n",
       "4         yes          135      8          18\n",
       "..        ...          ...    ...         ...\n",
       "995       yes           88     10          13\n",
       "996       yes          153     10          19\n",
       "997        no           41      4           3\n",
       "998        no           47      6          12\n",
       "999       yes          112      8          19\n",
       "\n",
       "[1000 rows x 4 columns]"
      ]
     },
     "execution_count": 7,
     "metadata": {},
     "output_type": "execute_result"
    }
   ],
   "source": [
    "mooc = pd.read_csv(\"Downloads/ICE4_Data.csv\")\n",
    "mooc"
   ]
  },
  {
   "cell_type": "code",
   "execution_count": 8,
   "id": "7c532cab",
   "metadata": {},
   "outputs": [
    {
     "data": {
      "text/plain": [
       "yes    725\n",
       "no     275\n",
       "Name: certified, dtype: int64"
      ]
     },
     "execution_count": 8,
     "metadata": {},
     "output_type": "execute_result"
    }
   ],
   "source": [
    "mooc['certified'].value_counts()"
   ]
  },
  {
   "cell_type": "code",
   "execution_count": 9,
   "id": "de17abf6",
   "metadata": {},
   "outputs": [
    {
     "data": {
      "text/html": [
       "<div>\n",
       "<style scoped>\n",
       "    .dataframe tbody tr th:only-of-type {\n",
       "        vertical-align: middle;\n",
       "    }\n",
       "\n",
       "    .dataframe tbody tr th {\n",
       "        vertical-align: top;\n",
       "    }\n",
       "\n",
       "    .dataframe thead th {\n",
       "        text-align: right;\n",
       "    }\n",
       "</style>\n",
       "<table border=\"1\" class=\"dataframe\">\n",
       "  <thead>\n",
       "    <tr style=\"text-align: right;\">\n",
       "      <th></th>\n",
       "      <th>forum.posts</th>\n",
       "      <th>grade</th>\n",
       "      <th>assignment</th>\n",
       "    </tr>\n",
       "  </thead>\n",
       "  <tbody>\n",
       "    <tr>\n",
       "      <th>count</th>\n",
       "      <td>1000.000000</td>\n",
       "      <td>1000.00000</td>\n",
       "      <td>1000.000000</td>\n",
       "    </tr>\n",
       "    <tr>\n",
       "      <th>mean</th>\n",
       "      <td>113.107000</td>\n",
       "      <td>7.76500</td>\n",
       "      <td>13.693000</td>\n",
       "    </tr>\n",
       "    <tr>\n",
       "      <th>std</th>\n",
       "      <td>55.126477</td>\n",
       "      <td>2.38232</td>\n",
       "      <td>5.011973</td>\n",
       "    </tr>\n",
       "    <tr>\n",
       "      <th>min</th>\n",
       "      <td>1.000000</td>\n",
       "      <td>1.00000</td>\n",
       "      <td>1.000000</td>\n",
       "    </tr>\n",
       "    <tr>\n",
       "      <th>25%</th>\n",
       "      <td>72.750000</td>\n",
       "      <td>8.00000</td>\n",
       "      <td>12.000000</td>\n",
       "    </tr>\n",
       "    <tr>\n",
       "      <th>50%</th>\n",
       "      <td>118.500000</td>\n",
       "      <td>8.00000</td>\n",
       "      <td>15.000000</td>\n",
       "    </tr>\n",
       "    <tr>\n",
       "      <th>75%</th>\n",
       "      <td>160.000000</td>\n",
       "      <td>9.00000</td>\n",
       "      <td>17.000000</td>\n",
       "    </tr>\n",
       "    <tr>\n",
       "      <th>max</th>\n",
       "      <td>200.000000</td>\n",
       "      <td>10.00000</td>\n",
       "      <td>20.000000</td>\n",
       "    </tr>\n",
       "  </tbody>\n",
       "</table>\n",
       "</div>"
      ],
      "text/plain": [
       "       forum.posts       grade   assignment\n",
       "count  1000.000000  1000.00000  1000.000000\n",
       "mean    113.107000     7.76500    13.693000\n",
       "std      55.126477     2.38232     5.011973\n",
       "min       1.000000     1.00000     1.000000\n",
       "25%      72.750000     8.00000    12.000000\n",
       "50%     118.500000     8.00000    15.000000\n",
       "75%     160.000000     9.00000    17.000000\n",
       "max     200.000000    10.00000    20.000000"
      ]
     },
     "execution_count": 9,
     "metadata": {},
     "output_type": "execute_result"
    }
   ],
   "source": [
    "mooc.describe()"
   ]
  },
  {
   "cell_type": "code",
   "execution_count": 10,
   "id": "0f0e009e",
   "metadata": {},
   "outputs": [],
   "source": [
    "import seaborn as sns"
   ]
  },
  {
   "cell_type": "code",
   "execution_count": 11,
   "id": "76691b6d",
   "metadata": {},
   "outputs": [
    {
     "data": {
      "text/plain": [
       "<seaborn.axisgrid.PairGrid at 0x19d8684cbe0>"
      ]
     },
     "execution_count": 11,
     "metadata": {},
     "output_type": "execute_result"
    },
    {
     "data": {
      "image/png": "[encoded data removed]",
      "text/plain": [
       "<Figure size 593.25x540 with 12 Axes>"
      ]
     },
     "metadata": {
      "needs_background": "light"
     },
     "output_type": "display_data"
    }
   ],
   "source": [
    "sns.pairplot(mooc, hue = \"certified\")"
   ]
  },
  {
   "cell_type": "code",
   "execution_count": 13,
   "id": "d4a0c4ec",
   "metadata": {},
   "outputs": [],
   "source": [
    "from sklearn.linear_model import LogisticRegression"
   ]
  },
  {
   "cell_type": "code",
   "execution_count": 18,
   "id": "59f3d88b",
   "metadata": {},
   "outputs": [
    {
     "data": {
      "text/html": [
       "<div>\n",
       "<style scoped>\n",
       "    .dataframe tbody tr th:only-of-type {\n",
       "        vertical-align: middle;\n",
       "    }\n",
       "\n",
       "    .dataframe tbody tr th {\n",
       "        vertical-align: top;\n",
       "    }\n",
       "\n",
       "    .dataframe thead th {\n",
       "        text-align: right;\n",
       "    }\n",
       "</style>\n",
       "<table border=\"1\" class=\"dataframe\">\n",
       "  <thead>\n",
       "    <tr style=\"text-align: right;\">\n",
       "      <th></th>\n",
       "      <th>certified_no</th>\n",
       "      <th>certified_yes</th>\n",
       "    </tr>\n",
       "  </thead>\n",
       "  <tbody>\n",
       "    <tr>\n",
       "      <th>0</th>\n",
       "      <td>1</td>\n",
       "      <td>0</td>\n",
       "    </tr>\n",
       "    <tr>\n",
       "      <th>1</th>\n",
       "      <td>1</td>\n",
       "      <td>0</td>\n",
       "    </tr>\n",
       "    <tr>\n",
       "      <th>2</th>\n",
       "      <td>0</td>\n",
       "      <td>1</td>\n",
       "    </tr>\n",
       "    <tr>\n",
       "      <th>3</th>\n",
       "      <td>0</td>\n",
       "      <td>1</td>\n",
       "    </tr>\n",
       "    <tr>\n",
       "      <th>4</th>\n",
       "      <td>0</td>\n",
       "      <td>1</td>\n",
       "    </tr>\n",
       "    <tr>\n",
       "      <th>...</th>\n",
       "      <td>...</td>\n",
       "      <td>...</td>\n",
       "    </tr>\n",
       "    <tr>\n",
       "      <th>995</th>\n",
       "      <td>0</td>\n",
       "      <td>1</td>\n",
       "    </tr>\n",
       "    <tr>\n",
       "      <th>996</th>\n",
       "      <td>0</td>\n",
       "      <td>1</td>\n",
       "    </tr>\n",
       "    <tr>\n",
       "      <th>997</th>\n",
       "      <td>1</td>\n",
       "      <td>0</td>\n",
       "    </tr>\n",
       "    <tr>\n",
       "      <th>998</th>\n",
       "      <td>1</td>\n",
       "      <td>0</td>\n",
       "    </tr>\n",
       "    <tr>\n",
       "      <th>999</th>\n",
       "      <td>0</td>\n",
       "      <td>1</td>\n",
       "    </tr>\n",
       "  </tbody>\n",
       "</table>\n",
       "<p>1000 rows × 2 columns</p>\n",
       "</div>"
      ],
      "text/plain": [
       "     certified_no  certified_yes\n",
       "0               1              0\n",
       "1               1              0\n",
       "2               0              1\n",
       "3               0              1\n",
       "4               0              1\n",
       "..            ...            ...\n",
       "995             0              1\n",
       "996             0              1\n",
       "997             1              0\n",
       "998             1              0\n",
       "999             0              1\n",
       "\n",
       "[1000 rows x 2 columns]"
      ]
     },
     "execution_count": 18,
     "metadata": {},
     "output_type": "execute_result"
    }
   ],
   "source": [
    "dummy = pd.get_dummies(mooc['certified'] ,prefix = 'certified')\n",
    "dummy"
   ]
  },
  {
   "cell_type": "code",
   "execution_count": 19,
   "id": "259a2a5f",
   "metadata": {},
   "outputs": [
    {
     "data": {
      "text/html": [
       "<div>\n",
       "<style scoped>\n",
       "    .dataframe tbody tr th:only-of-type {\n",
       "        vertical-align: middle;\n",
       "    }\n",
       "\n",
       "    .dataframe tbody tr th {\n",
       "        vertical-align: top;\n",
       "    }\n",
       "\n",
       "    .dataframe thead th {\n",
       "        text-align: right;\n",
       "    }\n",
       "</style>\n",
       "<table border=\"1\" class=\"dataframe\">\n",
       "  <thead>\n",
       "    <tr style=\"text-align: right;\">\n",
       "      <th></th>\n",
       "      <th>forum.posts</th>\n",
       "      <th>grade</th>\n",
       "      <th>assignment</th>\n",
       "      <th>certified_yes</th>\n",
       "    </tr>\n",
       "  </thead>\n",
       "  <tbody>\n",
       "    <tr>\n",
       "      <th>0</th>\n",
       "      <td>7</td>\n",
       "      <td>3</td>\n",
       "      <td>9</td>\n",
       "      <td>0</td>\n",
       "    </tr>\n",
       "    <tr>\n",
       "      <th>1</th>\n",
       "      <td>7</td>\n",
       "      <td>4</td>\n",
       "      <td>1</td>\n",
       "      <td>0</td>\n",
       "    </tr>\n",
       "    <tr>\n",
       "      <th>2</th>\n",
       "      <td>191</td>\n",
       "      <td>8</td>\n",
       "      <td>19</td>\n",
       "      <td>1</td>\n",
       "    </tr>\n",
       "    <tr>\n",
       "      <th>3</th>\n",
       "      <td>130</td>\n",
       "      <td>10</td>\n",
       "      <td>18</td>\n",
       "      <td>1</td>\n",
       "    </tr>\n",
       "    <tr>\n",
       "      <th>4</th>\n",
       "      <td>135</td>\n",
       "      <td>8</td>\n",
       "      <td>18</td>\n",
       "      <td>1</td>\n",
       "    </tr>\n",
       "    <tr>\n",
       "      <th>...</th>\n",
       "      <td>...</td>\n",
       "      <td>...</td>\n",
       "      <td>...</td>\n",
       "      <td>...</td>\n",
       "    </tr>\n",
       "    <tr>\n",
       "      <th>995</th>\n",
       "      <td>88</td>\n",
       "      <td>10</td>\n",
       "      <td>13</td>\n",
       "      <td>1</td>\n",
       "    </tr>\n",
       "    <tr>\n",
       "      <th>996</th>\n",
       "      <td>153</td>\n",
       "      <td>10</td>\n",
       "      <td>19</td>\n",
       "      <td>1</td>\n",
       "    </tr>\n",
       "    <tr>\n",
       "      <th>997</th>\n",
       "      <td>41</td>\n",
       "      <td>4</td>\n",
       "      <td>3</td>\n",
       "      <td>0</td>\n",
       "    </tr>\n",
       "    <tr>\n",
       "      <th>998</th>\n",
       "      <td>47</td>\n",
       "      <td>6</td>\n",
       "      <td>12</td>\n",
       "      <td>0</td>\n",
       "    </tr>\n",
       "    <tr>\n",
       "      <th>999</th>\n",
       "      <td>112</td>\n",
       "      <td>8</td>\n",
       "      <td>19</td>\n",
       "      <td>1</td>\n",
       "    </tr>\n",
       "  </tbody>\n",
       "</table>\n",
       "<p>1000 rows × 4 columns</p>\n",
       "</div>"
      ],
      "text/plain": [
       "     forum.posts  grade  assignment  certified_yes\n",
       "0              7      3           9              0\n",
       "1              7      4           1              0\n",
       "2            191      8          19              1\n",
       "3            130     10          18              1\n",
       "4            135      8          18              1\n",
       "..           ...    ...         ...            ...\n",
       "995           88     10          13              1\n",
       "996          153     10          19              1\n",
       "997           41      4           3              0\n",
       "998           47      6          12              0\n",
       "999          112      8          19              1\n",
       "\n",
       "[1000 rows x 4 columns]"
      ]
     },
     "execution_count": 19,
     "metadata": {},
     "output_type": "execute_result"
    }
   ],
   "source": [
    "moocD = pd.concat([mooc, dummy], axis=1)\n",
    "moocD = moocD.drop(['certified', 'certified_no'], axis=1)\n",
    "moocD"
   ]
  },
  {
   "cell_type": "code",
   "execution_count": 20,
   "id": "328052f4",
   "metadata": {},
   "outputs": [],
   "source": [
    "Xs = moocD[[\"forum.posts\", \"grade\", \"assignment\"]].to_numpy()\n",
    "certified = moocD.loc[:,\"certified_yes\"].values.reshape(-1, 1)"
   ]
  },
  {
   "cell_type": "code",
   "execution_count": 21,
   "id": "88b861c6",
   "metadata": {},
   "outputs": [
    {
     "name": "stderr",
     "output_type": "stream",
     "text": [
      "C:\\Users\\zzl\\anaconda3\\lib\\site-packages\\sklearn\\utils\\validation.py:63: DataConversionWarning: A column-vector y was passed when a 1d array was expected. Please change the shape of y to (n_samples, ), for example using ravel().\n",
      "  return f(*args, **kwargs)\n"
     ]
    },
    {
     "data": {
      "text/plain": [
       "LogisticRegression()"
      ]
     },
     "execution_count": 21,
     "metadata": {},
     "output_type": "execute_result"
    }
   ],
   "source": [
    "moocLogitModel1 = LogisticRegression()\n",
    "moocLogitModel1.fit(Xs, certified)"
   ]
  },
  {
   "cell_type": "code",
   "execution_count": 22,
   "id": "3c28a82d",
   "metadata": {},
   "outputs": [
    {
     "data": {
      "text/plain": [
       "array([-63.13291439])"
      ]
     },
     "execution_count": 22,
     "metadata": {},
     "output_type": "execute_result"
    }
   ],
   "source": [
    "moocLogitModel1.intercept_"
   ]
  },
  {
   "cell_type": "code",
   "execution_count": 23,
   "id": "f94d3e16",
   "metadata": {},
   "outputs": [
    {
     "data": {
      "text/plain": [
       "array([[0.62419697, 0.52270711, 0.85766257]])"
      ]
     },
     "execution_count": 23,
     "metadata": {},
     "output_type": "execute_result"
    }
   ],
   "source": [
    "moocLogitModel1.coef_"
   ]
  },
  {
   "cell_type": "code",
   "execution_count": 24,
   "id": "96a6782c",
   "metadata": {},
   "outputs": [
    {
     "name": "stdout",
     "output_type": "stream",
     "text": [
      "Optimization terminated successfully.\n",
      "         Current function value: 22.457768\n",
      "         Iterations 7\n",
      "                           Logit Regression Results                           \n",
      "==============================================================================\n",
      "Dep. Variable:                      y   No. Observations:                 1000\n",
      "Model:                          Logit   Df Residuals:                      997\n",
      "Method:                           MLE   Df Model:                            2\n",
      "Date:                Tue, 19 Oct 2021   Pseudo R-squ.:                     inf\n",
      "Time:                        21:45:42   Log-Likelihood:                -22458.\n",
      "converged:                       True   LL-Null:                        0.0000\n",
      "Covariance Type:            nonrobust   LLR p-value:                     1.000\n",
      "==============================================================================\n",
      "                 coef    std err          z      P>|z|      [0.025      0.975]\n",
      "------------------------------------------------------------------------------\n",
      "x1             0.0378      0.003     10.852      0.000       0.031       0.045\n",
      "x2            -0.3202      0.047     -6.879      0.000      -0.411      -0.229\n",
      "x3             0.0315      0.025      1.258      0.208      -0.018       0.081\n",
      "==============================================================================\n"
     ]
    },
    {
     "name": "stderr",
     "output_type": "stream",
     "text": [
      "C:\\Users\\zzl\\anaconda3\\lib\\site-packages\\statsmodels\\base\\model.py:547: HessianInversionWarning: Inverting hessian failed, no bse or cov_params available\n",
      "  warnings.warn('Inverting hessian failed, no bse or cov_params '\n",
      "C:\\Users\\zzl\\anaconda3\\lib\\site-packages\\statsmodels\\base\\model.py:547: HessianInversionWarning: Inverting hessian failed, no bse or cov_params available\n",
      "  warnings.warn('Inverting hessian failed, no bse or cov_params '\n",
      "C:\\Users\\zzl\\anaconda3\\lib\\site-packages\\statsmodels\\discrete\\discrete_model.py:3500: RuntimeWarning: divide by zero encountered in double_scalars\n",
      "  return 1 - self.llf/self.llnull\n"
     ]
    }
   ],
   "source": [
    "import statsmodels.api as sm\n",
    "\n",
    "moocLogitModel2 = sm.Logit(certified, Xs)\n",
    "moocLogitModel2Fit = moocLogitModel2.fit()\n",
    "print(moocLogitModel2Fit.summary())"
   ]
  },
  {
   "cell_type": "code",
   "execution_count": 25,
   "id": "e0c2e219",
   "metadata": {},
   "outputs": [],
   "source": [
    "from sklearn.tree import DecisionTreeClassifier\n",
    "\n",
    "Xs_tree = mooc.drop('certified', axis = 1)\n",
    "certified = mooc['certified']"
   ]
  },
  {
   "cell_type": "code",
   "execution_count": 26,
   "id": "cad91696",
   "metadata": {},
   "outputs": [
    {
     "data": {
      "text/plain": [
       "DecisionTreeClassifier()"
      ]
     },
     "execution_count": 26,
     "metadata": {},
     "output_type": "execute_result"
    }
   ],
   "source": [
    "moocTreeModel = DecisionTreeClassifier()\n",
    "moocTreeModel.fit(Xs_tree, certified)"
   ]
  },
  {
   "cell_type": "code",
   "execution_count": 27,
   "id": "35cf228d",
   "metadata": {},
   "outputs": [
    {
     "name": "stdout",
     "output_type": "stream",
     "text": [
      "|--- feature_0 <= 79.50\n",
      "|   |--- class: no\n",
      "|--- feature_0 >  79.50\n",
      "|   |--- feature_1 <= 7.50\n",
      "|   |   |--- class: no\n",
      "|   |--- feature_1 >  7.50\n",
      "|   |   |--- class: yes\n",
      "\n"
     ]
    }
   ],
   "source": [
    "from sklearn import tree\n",
    "text_representation = tree.export_text(moocTreeModel)\n",
    "print(text_representation)"
   ]
  },
  {
   "cell_type": "code",
   "execution_count": 28,
   "id": "a4879e5b",
   "metadata": {},
   "outputs": [
    {
     "data": {
      "text/plain": [
       "[Text(133.92000000000002, 181.2, 'forum.posts <= 79.5\\ngini = 0.399\\nsamples = 1000\\nvalue = [275, 725]\\nclass = no'),\n",
       " Text(66.96000000000001, 108.72, 'gini = 0.0\\nsamples = 271\\nvalue = [271, 0]\\nclass = no'),\n",
       " Text(200.88000000000002, 108.72, 'grade <= 7.5\\ngini = 0.011\\nsamples = 729\\nvalue = [4, 725]\\nclass = no'),\n",
       " Text(133.92000000000002, 36.23999999999998, 'gini = 0.0\\nsamples = 4\\nvalue = [4, 0]\\nclass = no'),\n",
       " Text(267.84000000000003, 36.23999999999998, 'gini = 0.0\\nsamples = 725\\nvalue = [0, 725]\\nclass = no')]"
      ]
     },
     "execution_count": 28,
     "metadata": {},
     "output_type": "execute_result"
    },
    {
     "data": {
      "image/png": "[encoded data removed]",
      "text/plain": [
       "<Figure size 432x288 with 1 Axes>"
      ]
     },
     "metadata": {
      "needs_background": "light"
     },
     "output_type": "display_data"
    }
   ],
   "source": [
    "tree.plot_tree(moocTreeModel,\n",
    "              feature_names = [\"forum.posts\", \"grade\", \"assignment\"], \n",
    "                class_names = mooc.certified \n",
    "              )"
   ]
  },
  {
   "cell_type": "code",
   "execution_count": 29,
   "id": "5da77210",
   "metadata": {},
   "outputs": [],
   "source": [
    "from sklearn.naive_bayes import GaussianNB\n",
    "\n",
    "Xs_NB = mooc.drop('certified', axis = 1)\n",
    "certified = mooc['certified']"
   ]
  },
  {
   "cell_type": "code",
   "execution_count": 30,
   "id": "1fa9e386",
   "metadata": {},
   "outputs": [
    {
     "data": {
      "text/plain": [
       "GaussianNB()"
      ]
     },
     "execution_count": 30,
     "metadata": {},
     "output_type": "execute_result"
    }
   ],
   "source": [
    "moocNBModel = GaussianNB()\n",
    "moocNBModel.fit(Xs_NB, certified)"
   ]
  },
  {
   "cell_type": "code",
   "execution_count": 31,
   "id": "1721c15c",
   "metadata": {},
   "outputs": [
    {
     "name": "stdout",
     "output_type": "stream",
     "text": [
      "The accuracy is 100.0 %\n"
     ]
    }
   ],
   "source": [
    "certified_pred = moocNBModel.predict(Xs_NB)\n",
    "performance = [item in certified_pred for item in certified]\n",
    "print('The accuracy is', sum(performance)/len(performance)*100, '%')"
   ]
  },
  {
   "cell_type": "code",
   "execution_count": 32,
   "id": "fd9f50cf",
   "metadata": {},
   "outputs": [],
   "source": [
    " from sklearn.model_selection import train_test_split\n",
    "\n",
    "## For logistic regression\n",
    "Xs_logit = moocD[[\"forum.posts\", \"grade\", \"assignment\"]].to_numpy()\n",
    "certified_logit = moocD.loc[:,\"certified_yes\"].values.reshape(-1, 1)\n",
    "xs_logit_training, xs_logit_test, y_logit_training, y_logit_test = train_test_split(Xs_logit, certified_logit, test_size = 0.2)\n",
    "\n",
    "## For decision tree and Naive Bayes\n",
    "Xs_TNB = mooc.drop('certified', axis = 1)\n",
    "certified_TNB = mooc['certified']\n",
    "xs_TNB_training, xs_TNB_test, y_TNB_training, y_TNB_test = train_test_split(Xs_TNB, certified_TNB, test_size = 0.2)"
   ]
  },
  {
   "cell_type": "code",
   "execution_count": 40,
   "id": "934fac19",
   "metadata": {},
   "outputs": [
    {
     "name": "stderr",
     "output_type": "stream",
     "text": [
      "C:\\Users\\zzl\\anaconda3\\lib\\site-packages\\sklearn\\utils\\validation.py:63: DataConversionWarning: A column-vector y was passed when a 1d array was expected. Please change the shape of y to (n_samples, ), for example using ravel().\n",
      "  return f(*args, **kwargs)\n"
     ]
    },
    {
     "data": {
      "text/plain": [
       "LogisticRegression()"
      ]
     },
     "execution_count": 40,
     "metadata": {},
     "output_type": "execute_result"
    }
   ],
   "source": [
    "moocLogitModel1 = LogisticRegression()\n",
    "moocLogitModel1.fit(Xs_logit, certified_logit)"
   ]
  },
  {
   "cell_type": "code",
   "execution_count": 41,
   "id": "2d72b196",
   "metadata": {},
   "outputs": [
    {
     "data": {
      "text/plain": [
       "array([-63.13291439])"
      ]
     },
     "execution_count": 41,
     "metadata": {},
     "output_type": "execute_result"
    }
   ],
   "source": [
    "moocLogitModel1.intercept_"
   ]
  },
  {
   "cell_type": "code",
   "execution_count": 42,
   "id": "f6741d46",
   "metadata": {},
   "outputs": [
    {
     "data": {
      "text/plain": [
       "array([[0.62419697, 0.52270711, 0.85766257]])"
      ]
     },
     "execution_count": 42,
     "metadata": {},
     "output_type": "execute_result"
    }
   ],
   "source": [
    "moocLogitModel1.coef_"
   ]
  },
  {
   "cell_type": "code",
   "execution_count": 43,
   "id": "1333d106",
   "metadata": {},
   "outputs": [],
   "source": [
    "import statsmodels.api as sm"
   ]
  },
  {
   "cell_type": "code",
   "execution_count": 44,
   "id": "275a489b",
   "metadata": {},
   "outputs": [
    {
     "name": "stdout",
     "output_type": "stream",
     "text": [
      "Optimization terminated successfully.\n",
      "         Current function value: 22.457768\n",
      "         Iterations 7\n",
      "                           Logit Regression Results                           \n",
      "==============================================================================\n",
      "Dep. Variable:                      y   No. Observations:                 1000\n",
      "Model:                          Logit   Df Residuals:                      997\n",
      "Method:                           MLE   Df Model:                            2\n",
      "Date:                Thu, 21 Oct 2021   Pseudo R-squ.:                     inf\n",
      "Time:                        22:20:27   Log-Likelihood:                -22458.\n",
      "converged:                       True   LL-Null:                        0.0000\n",
      "Covariance Type:            nonrobust   LLR p-value:                     1.000\n",
      "==============================================================================\n",
      "                 coef    std err          z      P>|z|      [0.025      0.975]\n",
      "------------------------------------------------------------------------------\n",
      "x1             0.0378      0.003     10.852      0.000       0.031       0.045\n",
      "x2            -0.3202      0.047     -6.879      0.000      -0.411      -0.229\n",
      "x3             0.0315      0.025      1.258      0.208      -0.018       0.081\n",
      "==============================================================================\n"
     ]
    },
    {
     "name": "stderr",
     "output_type": "stream",
     "text": [
      "C:\\Users\\zzl\\anaconda3\\lib\\site-packages\\statsmodels\\base\\model.py:547: HessianInversionWarning: Inverting hessian failed, no bse or cov_params available\n",
      "  warnings.warn('Inverting hessian failed, no bse or cov_params '\n",
      "C:\\Users\\zzl\\anaconda3\\lib\\site-packages\\statsmodels\\base\\model.py:547: HessianInversionWarning: Inverting hessian failed, no bse or cov_params available\n",
      "  warnings.warn('Inverting hessian failed, no bse or cov_params '\n",
      "C:\\Users\\zzl\\anaconda3\\lib\\site-packages\\statsmodels\\discrete\\discrete_model.py:3500: RuntimeWarning: divide by zero encountered in double_scalars\n",
      "  return 1 - self.llf/self.llnull\n"
     ]
    }
   ],
   "source": [
    "moocLogitModel2 = sm.Logit(certified_logit,Xs_logit)\n",
    "moocLogitModel2Fit = moocLogitModel2.fit()\n",
    "print(moocLogitModel2Fit.summary())"
   ]
  },
  {
   "cell_type": "code",
   "execution_count": 45,
   "id": "38d49fbd",
   "metadata": {},
   "outputs": [],
   "source": [
    "from sklearn.tree import DecisionTreeClassifier"
   ]
  },
  {
   "cell_type": "code",
   "execution_count": 46,
   "id": "2b03482e",
   "metadata": {},
   "outputs": [],
   "source": [
    "Xs_logit_tree = mooc.drop('certified', axis = 1)\n",
    "certified_logit= mooc['certified']"
   ]
  },
  {
   "cell_type": "code",
   "execution_count": 47,
   "id": "8174131d",
   "metadata": {},
   "outputs": [
    {
     "data": {
      "text/plain": [
       "DecisionTreeClassifier()"
      ]
     },
     "execution_count": 47,
     "metadata": {},
     "output_type": "execute_result"
    }
   ],
   "source": [
    "moocTreeModel = DecisionTreeClassifier()\n",
    "moocTreeModel.fit(Xs_logit_tree, certified_logit)"
   ]
  },
  {
   "cell_type": "code",
   "execution_count": 48,
   "id": "3f9a1938",
   "metadata": {},
   "outputs": [
    {
     "name": "stdout",
     "output_type": "stream",
     "text": [
      "|--- feature_0 <= 79.50\n",
      "|   |--- class: no\n",
      "|--- feature_0 >  79.50\n",
      "|   |--- feature_2 <= 11.00\n",
      "|   |   |--- class: no\n",
      "|   |--- feature_2 >  11.00\n",
      "|   |   |--- class: yes\n",
      "\n"
     ]
    }
   ],
   "source": [
    "from sklearn import tree\n",
    "text_representation = tree.export_text(moocTreeModel)\n",
    "print(text_representation)"
   ]
  },
  {
   "cell_type": "code",
   "execution_count": 49,
   "id": "4da352d2",
   "metadata": {},
   "outputs": [],
   "source": [
    "from sklearn.naive_bayes import GaussianNB\n",
    "\n",
    "Xs_logit_NB = mooc.drop('certified', axis = 1)\n",
    "certified_logit = mooc['certified']"
   ]
  },
  {
   "cell_type": "code",
   "execution_count": 50,
   "id": "9793f067",
   "metadata": {},
   "outputs": [
    {
     "data": {
      "text/plain": [
       "GaussianNB()"
      ]
     },
     "execution_count": 50,
     "metadata": {},
     "output_type": "execute_result"
    }
   ],
   "source": [
    "moocNBModel = GaussianNB()\n",
    "moocNBModel.fit(Xs_logit_NB, certified_logit)"
   ]
  },
  {
   "cell_type": "code",
   "execution_count": 51,
   "id": "2c2be4ed",
   "metadata": {},
   "outputs": [
    {
     "name": "stdout",
     "output_type": "stream",
     "text": [
      "The accuracy is 100.0 %\n"
     ]
    }
   ],
   "source": [
    "certified_pred = moocNBModel.predict(Xs_logit_NB)\n",
    "performance = [item in certified_pred for item in certified]\n",
    "print('The accuracy is', sum(performance)/len(performance)*100, '%')"
   ]
  },
  {
   "cell_type": "code",
   "execution_count": 52,
   "id": "37c1985d",
   "metadata": {},
   "outputs": [],
   "source": [
    "certified_pred_logit1 = moocLogitModel1.predict(xs_logit_test)"
   ]
  },
  {
   "cell_type": "code",
   "execution_count": 56,
   "id": "d04cf792",
   "metadata": {},
   "outputs": [
    {
     "ename": "NameError",
     "evalue": "name 'xs_logit_test2' is not defined",
     "output_type": "error",
     "traceback": [
      "\u001b[1;31m---------------------------------------------------------------------------\u001b[0m",
      "\u001b[1;31mNameError\u001b[0m                                 Traceback (most recent call last)",
      "\u001b[1;32m<ipython-input-56-1a34963b27c2>\u001b[0m in \u001b[0;36m<module>\u001b[1;34m\u001b[0m\n\u001b[1;32m----> 1\u001b[1;33m \u001b[0mcertified_pred_logit2\u001b[0m \u001b[1;33m=\u001b[0m \u001b[0mmoocLogitModel1\u001b[0m\u001b[1;33m.\u001b[0m\u001b[0mpredict\u001b[0m\u001b[1;33m(\u001b[0m\u001b[0mxs_logit_test2\u001b[0m\u001b[1;33m)\u001b[0m\u001b[1;33m\u001b[0m\u001b[1;33m\u001b[0m\u001b[0m\n\u001b[0m",
      "\u001b[1;31mNameError\u001b[0m: name 'xs_logit_test2' is not defined"
     ]
    }
   ],
   "source": [
    "certified_pred_logit2 = moocLogitModel1.predict(xs_logit_test2)"
   ]
  },
  {
   "cell_type": "code",
   "execution_count": 53,
   "id": "a14cd7ec",
   "metadata": {},
   "outputs": [],
   "source": [
    "from sklearn.metrics import confusion_matrix"
   ]
  },
  {
   "cell_type": "code",
   "execution_count": 54,
   "id": "de1cd398",
   "metadata": {},
   "outputs": [
    {
     "name": "stdout",
     "output_type": "stream",
     "text": [
      "[[ 45   0]\n",
      " [  0 155]]\n"
     ]
    }
   ],
   "source": [
    "print(confusion_matrix(y_logit_test, certified_pred_logit1))"
   ]
  },
  {
   "cell_type": "code",
   "execution_count": 55,
   "id": "e488265b",
   "metadata": {},
   "outputs": [
    {
     "ename": "NameError",
     "evalue": "name 'certified_pred_logit2' is not defined",
     "output_type": "error",
     "traceback": [
      "\u001b[1;31m---------------------------------------------------------------------------\u001b[0m",
      "\u001b[1;31mNameError\u001b[0m                                 Traceback (most recent call last)",
      "\u001b[1;32m<ipython-input-55-d9bfb469a211>\u001b[0m in \u001b[0;36m<module>\u001b[1;34m\u001b[0m\n\u001b[1;32m----> 1\u001b[1;33m \u001b[0mprint\u001b[0m\u001b[1;33m(\u001b[0m\u001b[0mconfusion_matrix\u001b[0m\u001b[1;33m(\u001b[0m\u001b[0my_logit_test\u001b[0m\u001b[1;33m,\u001b[0m \u001b[0mcertified_pred_logit2\u001b[0m\u001b[1;33m)\u001b[0m\u001b[1;33m)\u001b[0m\u001b[1;33m\u001b[0m\u001b[1;33m\u001b[0m\u001b[0m\n\u001b[0m",
      "\u001b[1;31mNameError\u001b[0m: name 'certified_pred_logit2' is not defined"
     ]
    }
   ],
   "source": [
    "print(confusion_matrix(y_logit_test, certified_pred_logit2))"
   ]
  }
 ],
 "metadata": {
  "kernelspec": {
   "display_name": "Python 3 (ipykernel)",
   "language": "python",
   "name": "python3"
  },
  "language_info": {
   "codemirror_mode": {
    "name": "ipython",
    "version": 3
   },
   "file_extension": ".py",
   "mimetype": "text/x-python",
   "name": "python",
   "nbconvert_exporter": "python",
   "pygments_lexer": "ipython3",
   "version": "3.8.12"
  }
 },
 "nbformat": 4,
 "nbformat_minor": 5
}
