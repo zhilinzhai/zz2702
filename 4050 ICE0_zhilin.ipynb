{
 "cells": [
  {
   "cell_type": "code",
   "execution_count": 1,
   "id": "d0fe083c",
   "metadata": {},
   "outputs": [
    {
     "name": "stdout",
     "output_type": "stream",
     "text": [
      "Hello World!\n"
     ]
    }
   ],
   "source": [
    "print(\"Hello World!\")"
   ]
  },
  {
   "cell_type": "code",
   "execution_count": 4,
   "id": "6da3507a",
   "metadata": {},
   "outputs": [],
   "source": [
    "x = 3\n",
    "y = 7\n",
    "xy = 'Whatsup'"
   ]
  },
  {
   "cell_type": "code",
   "execution_count": 5,
   "id": "a1ee2324",
   "metadata": {},
   "outputs": [
    {
     "name": "stdout",
     "output_type": "stream",
     "text": [
      "3 7 10 Whatsup\n"
     ]
    }
   ],
   "source": [
    "print(x, y, x+y, xy)"
   ]
  },
  {
   "cell_type": "code",
   "execution_count": 6,
   "id": "0d728c7e",
   "metadata": {},
   "outputs": [
    {
     "name": "stdout",
     "output_type": "stream",
     "text": [
      "3\n",
      "5\n",
      "7\n"
     ]
    }
   ],
   "source": [
    "print(x)\n",
    "x = 5\n",
    "print(x)\n",
    "x = y\n",
    "print(x)"
   ]
  },
  {
   "cell_type": "code",
   "execution_count": 7,
   "id": "2ee63cb1",
   "metadata": {},
   "outputs": [
    {
     "name": "stdout",
     "output_type": "stream",
     "text": [
      "1 + 2 =  3\n",
      "2 - 1 =  1\n",
      "1 * 2 =  2\n",
      "9 / 3 =  3.0\n"
     ]
    }
   ],
   "source": [
    "a = 1 + 2\n",
    "print(\"1 + 2 = \", a)\n",
    "b = 2 - 1\n",
    "print(\"2 - 1 = \", b)\n",
    "c = 1 * 2\n",
    "print(\"1 * 2 = \", c)\n",
    "d = 9 / 3\n",
    "print(\"9 / 3 = \", d)"
   ]
  },
  {
   "cell_type": "code",
   "execution_count": 8,
   "id": "fba7afa0",
   "metadata": {},
   "outputs": [
    {
     "name": "stdout",
     "output_type": "stream",
     "text": [
      "m =  1\n",
      "f =  3\n"
     ]
    }
   ],
   "source": [
    "# division-related operators\n",
    "m = 10 % 3\n",
    "print(\"m = \", m)\n",
    "f = 10 // 3\n",
    "print(\"f = \", f)"
   ]
  },
  {
   "cell_type": "code",
   "execution_count": 9,
   "id": "926581da",
   "metadata": {},
   "outputs": [
    {
     "name": "stdout",
     "output_type": "stream",
     "text": [
      "a =  3 ; m =  1 ; f =  3\n",
      "a is equal to f?  True\n",
      "a is not equal to f? False\n",
      "m is smaller than f?  True\n"
     ]
    }
   ],
   "source": [
    "print(\"a = \", a, \"; m = \", m, \"; f = \", f)\n",
    "print(\"a is equal to f? \", a == f)\n",
    "print(\"a is not equal to f?\", a !=f)\n",
    "print(\"m is smaller than f? \", m < f)"
   ]
  },
  {
   "cell_type": "code",
   "execution_count": 3,
   "id": "40f45aa9",
   "metadata": {},
   "outputs": [],
   "source": [
    "import os "
   ]
  }
 ],
 "metadata": {
  "kernelspec": {
   "display_name": "Python 3 (ipykernel)",
   "language": "python",
   "name": "python3"
  },
  "language_info": {
   "codemirror_mode": {
    "name": "ipython",
    "version": 3
   },
   "file_extension": ".py",
   "mimetype": "text/x-python",
   "name": "python",
   "nbconvert_exporter": "python",
   "pygments_lexer": "ipython3",
   "version": "3.8.12"
  }
 },
 "nbformat": 4,
 "nbformat_minor": 5
}
